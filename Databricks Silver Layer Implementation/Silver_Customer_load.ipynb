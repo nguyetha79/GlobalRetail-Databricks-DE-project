{
 "cells": [
  {
   "cell_type": "markdown",
   "metadata": {
    "application/vnd.databricks.v1+cell": {
     "cellMetadata": {},
     "inputWidgets": {},
     "nuid": "1f69449c-9518-4740-9142-d3c4160b62bb",
     "showTitle": false,
     "tableResultSettingsMap": {},
     "title": ""
    }
   },
   "source": [
    "## Create a Databricks notebook to load the Silver layer: Customer delta table"
   ]
  },
  {
   "cell_type": "code",
   "execution_count": 0,
   "metadata": {
    "application/vnd.databricks.v1+cell": {
     "cellMetadata": {
      "byteLimit": 2048000,
      "rowLimit": 10000
     },
     "inputWidgets": {},
     "nuid": "32c86034-b4b4-4d56-ad8d-dc2f5900500b",
     "showTitle": false,
     "tableResultSettingsMap": {},
     "title": ""
    }
   },
   "outputs": [],
   "source": [
    "spark.sql(\"USE globalretail_silver\")\n",
    "spark.sql(\"\"\"\n",
    "    CREATE TABLE IF NOT EXISTS silver_customers(\n",
    "      customer_id STRING,\n",
    "      name STRING,\n",
    "      email STRING,\n",
    "      country STRING,\n",
    "      customer_type STRING,\n",
    "      registration_date DATE,\n",
    "      age INTEGER,\n",
    "      gender STRING,\n",
    "      total_purchases INTEGER,  \n",
    "      customer_segment STRING,\n",
    "      days_since_registration INTEGER,\n",
    "      last_updated TIMESTAMP\n",
    "    )\n",
    "\"\"\")"
   ]
  },
  {
   "cell_type": "markdown",
   "metadata": {
    "application/vnd.databricks.v1+cell": {
     "cellMetadata": {},
     "inputWidgets": {},
     "nuid": "1813cc24-f473-4b7c-9931-249c7b4938fc",
     "showTitle": false,
     "tableResultSettingsMap": {},
     "title": ""
    }
   },
   "source": [
    "- Whenever new data arrives in the silver layer table, we need to distinguish between fresh records from the bronze layer and existing records. \n",
    "- To do this, we simply identify the latest updated timestamp in the silver layer table."
   ]
  },
  {
   "cell_type": "code",
   "execution_count": 0,
   "metadata": {
    "application/vnd.databricks.v1+cell": {
     "cellMetadata": {
      "byteLimit": 2048000,
      "rowLimit": 10000
     },
     "inputWidgets": {},
     "nuid": "6a3dc702-60b2-4b97-9541-bf5f6d4131aa",
     "showTitle": false,
     "tableResultSettingsMap": {},
     "title": ""
    }
   },
   "outputs": [],
   "source": [
    "# Get the most recent last_updated timestamp from the silver_customers table\n",
    "last_processed_df = spark.sql(\"SELECT MAX(last_updated) AS last_processed FROM silver_customers\")\n",
    "last_processed_timestamp = last_processed_df.collect()[0]['last_processed']\n",
    "\n",
    "# If no records exist, set a default old timestamp\n",
    "if last_processed_timestamp is None:\n",
    "  last_processed_timestamp = \"1900-01-01T00:00:00.000+0000\""
   ]
  },
  {
   "cell_type": "code",
   "execution_count": 0,
   "metadata": {
    "application/vnd.databricks.v1+cell": {
     "cellMetadata": {
      "byteLimit": 2048000,
      "rowLimit": 10000
     },
     "inputWidgets": {},
     "nuid": "33577805-259d-4568-a579-54ac6914d9ff",
     "showTitle": false,
     "tableResultSettingsMap": {},
     "title": ""
    }
   },
   "outputs": [],
   "source": [
    "# Create a temporary view of incremental data\n",
    "spark.sql(f\"\"\"\n",
    "    CREATE OR REPLACE TEMPORARY VIEW bronze_incremental_customers AS\n",
    "    SELECT * \n",
    "    FROM globalretail_bronze.bronze_customers c\n",
    "    WHERE c.ingestion_timestamp >= '{last_processed_timestamp}'\n",
    "\"\"\")"
   ]
  },
  {
   "cell_type": "code",
   "execution_count": 0,
   "metadata": {
    "application/vnd.databricks.v1+cell": {
     "cellMetadata": {
      "byteLimit": 2048000,
      "rowLimit": 10000
     },
     "inputWidgets": {},
     "nuid": "0e4bb8d9-21c1-4504-844b-5043848afea5",
     "showTitle": false,
     "tableResultSettingsMap": {},
     "title": ""
    }
   },
   "outputs": [],
   "source": [
    "spark.sql(\"select * from bronze_incremental\").show()"
   ]
  },
  {
   "cell_type": "markdown",
   "metadata": {
    "application/vnd.databricks.v1+cell": {
     "cellMetadata": {},
     "inputWidgets": {},
     "nuid": "27519103-d30a-4bc4-96ad-3e75356e2c5a",
     "showTitle": false,
     "tableResultSettingsMap": {},
     "title": ""
    }
   },
   "source": [
    "- **Data Transformation:**\n",
    "  - Ensure email addresses are not null\n",
    "  - Validate that age is between 18 and 100\n",
    "  - Assign customer_segment: 'High Value' if total_purchases > 10,000, 'Medium Value' if > 5,000, otherwise 'Low Value'\n",
    "  - Calculate days since the user registered in the system\n",
    "  - Exclude records where total_purchases is negative"
   ]
  },
  {
   "cell_type": "code",
   "execution_count": 0,
   "metadata": {
    "application/vnd.databricks.v1+cell": {
     "cellMetadata": {
      "byteLimit": 2048000,
      "rowLimit": 10000
     },
     "inputWidgets": {},
     "nuid": "650c965b-ae78-46c0-bb9d-6ca5c8ea9b04",
     "showTitle": false,
     "tableResultSettingsMap": {},
     "title": ""
    }
   },
   "outputs": [],
   "source": [
    "# Transform data\n",
    "\n",
    "spark.sql(\"\"\"\n",
    "    CREATE OR REPLACE TEMPORARY VIEW silver_incremental_customers AS\n",
    "    SELECT \n",
    "      customer_id,\n",
    "      name,\n",
    "      email,\n",
    "      country,  \n",
    "      customer_type,\n",
    "      registration_date,\n",
    "      age,\n",
    "      gender,\n",
    "      total_purchases,\n",
    "      CASE \n",
    "        WHEN total_purchases > 10000 THEN 'High Value'\n",
    "        WHEN total_purchases > 5000 THEN 'Medium Value'\n",
    "        ELSE 'Low Value'\n",
    "      END AS customer_segment,\n",
    "      datediff(current_date(), registration_date) AS days_since_registration,\n",
    "      current_timestamp() AS last_updated\n",
    "    FROM bronze_incremental\n",
    "    WHERE\n",
    "        age BETWEEN 18 AND 100 AND\n",
    "        total_purchases >= 0 AND\n",
    "        email IS NOT NULL\n",
    "\"\"\")"
   ]
  },
  {
   "cell_type": "code",
   "execution_count": 0,
   "metadata": {
    "application/vnd.databricks.v1+cell": {
     "cellMetadata": {
      "byteLimit": 2048000,
      "rowLimit": 10000
     },
     "inputWidgets": {},
     "nuid": "9a1a75d8-8bd2-4625-af1e-e88961e63562",
     "showTitle": false,
     "tableResultSettingsMap": {},
     "title": ""
    }
   },
   "outputs": [],
   "source": [
    "display(spark.sql(\"select * from silver_incremental_customers\"))"
   ]
  },
  {
   "cell_type": "code",
   "execution_count": 0,
   "metadata": {
    "application/vnd.databricks.v1+cell": {
     "cellMetadata": {
      "byteLimit": 2048000,
      "rowLimit": 10000
     },
     "inputWidgets": {},
     "nuid": "f646483b-034c-4c6f-9f6e-91c20433ca1b",
     "showTitle": false,
     "tableResultSettingsMap": {},
     "title": ""
    }
   },
   "outputs": [],
   "source": [
    "spark.sql(\"\"\"\n",
    "    MERGE INTO silver_customers t\n",
    "    USING silver_incremental_customers s\n",
    "    ON t.customer_id = s.customer_id\n",
    "    WHEN MATCHED THEN\n",
    "      UPDATE SET *\n",
    "    WHEN NOT MATCHED THEN\n",
    "      INSERT *\n",
    "\"\"\")"
   ]
  },
  {
   "cell_type": "code",
   "execution_count": 0,
   "metadata": {
    "application/vnd.databricks.v1+cell": {
     "cellMetadata": {
      "byteLimit": 2048000,
      "rowLimit": 10000
     },
     "inputWidgets": {},
     "nuid": "9f0844fa-6ccf-4254-add7-3621702bad13",
     "showTitle": false,
     "tableResultSettingsMap": {},
     "title": ""
    }
   },
   "outputs": [],
   "source": [
    "spark.sql(\"select count(*) from silver_customers\").show()"
   ]
  },
  {
   "cell_type": "code",
   "execution_count": 0,
   "metadata": {
    "application/vnd.databricks.v1+cell": {
     "cellMetadata": {},
     "inputWidgets": {},
     "nuid": "d80ea00d-f0c2-4fb2-89d2-bb4d5ef4f146",
     "showTitle": false,
     "tableResultSettingsMap": {},
     "title": ""
    }
   },
   "outputs": [],
   "source": []
  }
 ],
 "metadata": {
  "application/vnd.databricks.v1+notebook": {
   "computePreferences": null,
   "dashboards": [],
   "environmentMetadata": {
    "base_environment": "",
    "environment_version": "3"
   },
   "inputWidgetPreferences": null,
   "language": "python",
   "notebookMetadata": {
    "pythonIndentUnit": 4
   },
   "notebookName": "Silver_Customer_load",
   "widgets": {}
  },
  "language_info": {
   "name": "python"
  }
 },
 "nbformat": 4,
 "nbformat_minor": 0
}
