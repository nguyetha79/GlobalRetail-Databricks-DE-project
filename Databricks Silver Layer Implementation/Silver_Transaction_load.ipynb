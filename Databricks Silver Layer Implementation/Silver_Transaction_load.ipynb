{
 "cells": [
  {
   "cell_type": "markdown",
   "metadata": {
    "application/vnd.databricks.v1+cell": {
     "cellMetadata": {},
     "inputWidgets": {},
     "nuid": "e0d038be-ef41-4a4d-b12d-ae7ad8209e17",
     "showTitle": false,
     "tableResultSettingsMap": {},
     "title": ""
    }
   },
   "source": [
    "## Create a Databricks notebook to load the Silver layer: Oerder delta table"
   ]
  },
  {
   "cell_type": "code",
   "execution_count": 0,
   "metadata": {
    "application/vnd.databricks.v1+cell": {
     "cellMetadata": {
      "byteLimit": 2048000,
      "rowLimit": 10000
     },
     "inputWidgets": {},
     "nuid": "c0144847-4d2c-4e01-a76e-e95280916f68",
     "showTitle": false,
     "tableResultSettingsMap": {},
     "title": ""
    }
   },
   "outputs": [],
   "source": [
    "spark.sql(\"USE globalretail_silver\")\n",
    "spark.sql(\"\"\"\n",
    "    CREATE TABLE IF NOT EXISTS silver_orders(\n",
    "      transaction_id STRING,\n",
    "      customer_id STRING,\n",
    "      product_id STRING,\n",
    "      quantity INT,\n",
    "      total_amount DOUBLE,\n",
    "      transaction_date DATE,\n",
    "      payment_method STRING,\n",
    "      store_type STRING,\n",
    "      order_status STRING,\n",
    "      last_updated TIMESTAMP\n",
    "    )\n",
    "USING DELTA\n",
    "\"\"\")"
   ]
  },
  {
   "cell_type": "code",
   "execution_count": 0,
   "metadata": {
    "application/vnd.databricks.v1+cell": {
     "cellMetadata": {
      "byteLimit": 2048000,
      "rowLimit": 10000
     },
     "inputWidgets": {},
     "nuid": "d8e8a64e-4c09-4af6-8fe6-da022564bee9",
     "showTitle": false,
     "tableResultSettingsMap": {},
     "title": ""
    }
   },
   "outputs": [],
   "source": [
    "# Get the most recent last_updated timestamp from the silver_orders table\n",
    "last_processed_df = spark.sql(\"SELECT MAX(last_updated) AS last_processed FROM silver_orders\")\n",
    "last_processed_timestamp = last_processed_df.collect()[0]['last_processed']\n",
    "\n",
    "# If no records exist, set a default old timestamp\n",
    "if last_processed_timestamp is None:\n",
    "  last_processed_timestamp = \"1900-01-01T00:00:00.000+0000\""
   ]
  },
  {
   "cell_type": "code",
   "execution_count": 0,
   "metadata": {
    "application/vnd.databricks.v1+cell": {
     "cellMetadata": {
      "byteLimit": 2048000,
      "rowLimit": 10000
     },
     "inputWidgets": {},
     "nuid": "bf9b624f-449b-426e-a1b0-0ab7657e0329",
     "showTitle": false,
     "tableResultSettingsMap": {},
     "title": ""
    }
   },
   "outputs": [],
   "source": [
    "# Create a temporary view of incremental data\n",
    "spark.sql(f\"\"\"\n",
    "    CREATE OR REPLACE TEMPORARY VIEW bronze_incremental_orders AS\n",
    "    SELECT * \n",
    "    FROM globalretail_bronze.bronze_transactions t\n",
    "    WHERE t.ingestion_timestamp >= '{last_processed_timestamp}'\n",
    "\"\"\")"
   ]
  },
  {
   "cell_type": "code",
   "execution_count": 0,
   "metadata": {
    "application/vnd.databricks.v1+cell": {
     "cellMetadata": {
      "byteLimit": 2048000,
      "rowLimit": 10000
     },
     "inputWidgets": {},
     "nuid": "a4227722-c0c7-4af6-9b03-3e3462edc420",
     "showTitle": false,
     "tableResultSettingsMap": {},
     "title": ""
    }
   },
   "outputs": [],
   "source": [
    "display(spark.sql(\"select * from bronze_incremental_orders\"))"
   ]
  },
  {
   "cell_type": "markdown",
   "metadata": {
    "application/vnd.databricks.v1+cell": {
     "cellMetadata": {},
     "inputWidgets": {},
     "nuid": "12e5b35c-abd3-4191-8474-dcb47ebc9ca0",
     "showTitle": false,
     "tableResultSettingsMap": {},
     "title": ""
    }
   },
   "source": [
    "- **Data Transformation:**\n",
    "  - Quatity and total_amount normalization (setting negative values to 0)\n",
    "  - Date casting to ensure consistent date format\n",
    "  - Order status derivation based on quantity and total_amount\n",
    "  - Data quality checks: we filter out records with null transaction dates, customer IDs or product IDs"
   ]
  },
  {
   "cell_type": "code",
   "execution_count": 0,
   "metadata": {
    "application/vnd.databricks.v1+cell": {
     "cellMetadata": {
      "byteLimit": 2048000,
      "rowLimit": 10000
     },
     "inputWidgets": {},
     "nuid": "f9e7cd3e-8783-46a4-bbda-857c039c60a2",
     "showTitle": false,
     "tableResultSettingsMap": {},
     "title": ""
    }
   },
   "outputs": [],
   "source": [
    "# Transform data\n",
    "spark.sql(\"\"\"\n",
    "    CREATE OR REPLACE TEMPORARY VIEW silver_incremental_orders AS\n",
    "    SELECT\n",
    "      transaction_id,\n",
    "      customer_id,\n",
    "      product_id,\n",
    "      CASE \n",
    "        WHEN quantity < 0 THEN 0\n",
    "        ELSE quantity\n",
    "      END AS quantity,\n",
    "      CASE \n",
    "        WHEN total_amount < 0 THEN 0\n",
    "        ELSE total_amount\n",
    "      END AS total_amount,\n",
    "      CAST(transaction_date AS DATE) AS transaction_date,\n",
    "      payment_method,\n",
    "      store_type,\n",
    "      CASE\n",
    "        WHEN quantity = 0 or total_amount = 0 THEN 'Cancelled'\n",
    "        ELSE 'Completed'\n",
    "      END AS order_status,\n",
    "      current_timestamp() AS last_updated\n",
    "    FROM bronze_incremental_orders\n",
    "    WHERE transaction_id IS NOT NULL\n",
    "      AND customer_id IS NOT NULL\n",
    "      AND product_id IS NOT NULL\n",
    "\"\"\")"
   ]
  },
  {
   "cell_type": "code",
   "execution_count": 0,
   "metadata": {
    "application/vnd.databricks.v1+cell": {
     "cellMetadata": {},
     "inputWidgets": {},
     "nuid": "8321d9a0-258c-4f0d-a427-aeb151ca21e7",
     "showTitle": false,
     "tableResultSettingsMap": {},
     "title": ""
    }
   },
   "outputs": [],
   "source": [
    "display(spark.sql(\"SELECT * FROM silver_incremental_orders\"))"
   ]
  },
  {
   "cell_type": "code",
   "execution_count": 0,
   "metadata": {
    "application/vnd.databricks.v1+cell": {
     "cellMetadata": {
      "byteLimit": 2048000,
      "rowLimit": 10000
     },
     "inputWidgets": {},
     "nuid": "4c5fb6e1-be39-40f8-a5c5-0ed1fc9e2c55",
     "showTitle": false,
     "tableResultSettingsMap": {},
     "title": ""
    }
   },
   "outputs": [],
   "source": [
    "# Merge incremental transaction data into the silver_orders table\n",
    "spark.sql(\"\"\"\n",
    "    MERGE INTO silver_orders t\n",
    "    USING silver_incremental_orders s\n",
    "    ON t.transaction_id = s.transaction_id\n",
    "    WHEN MATCHED THEN\n",
    "      UPDATE SET *\n",
    "    WHEN NOT MATCHED THEN\n",
    "      INSERT *\n",
    "\"\"\")"
   ]
  },
  {
   "cell_type": "code",
   "execution_count": 0,
   "metadata": {
    "application/vnd.databricks.v1+cell": {
     "cellMetadata": {
      "byteLimit": 2048000,
      "implicitDf": true,
      "rowLimit": 10000
     },
     "inputWidgets": {},
     "nuid": "e8e3bee5-7fba-4117-afae-91704ada19b8",
     "showTitle": false,
     "tableResultSettingsMap": {},
     "title": ""
    }
   },
   "outputs": [],
   "source": [
    "%sql\n",
    "select * from globalretail_silver.silver_orders"
   ]
  }
 ],
 "metadata": {
  "application/vnd.databricks.v1+notebook": {
   "computePreferences": null,
   "dashboards": [],
   "environmentMetadata": {
    "base_environment": "",
    "environment_version": "3"
   },
   "inputWidgetPreferences": null,
   "language": "python",
   "notebookMetadata": {
    "mostRecentlyExecutedCommandWithImplicitDF": {
     "commandId": 4896924839854697,
     "dataframes": [
      "_sqldf"
     ]
    },
    "pythonIndentUnit": 4
   },
   "notebookName": "Silver_Transaction_load",
   "widgets": {}
  },
  "language_info": {
   "name": "python"
  }
 },
 "nbformat": 4,
 "nbformat_minor": 0
}
