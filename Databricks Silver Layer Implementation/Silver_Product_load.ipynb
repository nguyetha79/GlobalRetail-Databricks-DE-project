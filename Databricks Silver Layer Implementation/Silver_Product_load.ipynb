{
 "cells": [
  {
   "cell_type": "markdown",
   "metadata": {
    "application/vnd.databricks.v1+cell": {
     "cellMetadata": {},
     "inputWidgets": {},
     "nuid": "40a3985c-1b02-4e5c-8c6a-fe5e51271f29",
     "showTitle": false,
     "tableResultSettingsMap": {},
     "title": ""
    }
   },
   "source": [
    "## Create a Databricks notebook to load the Silver layer: Product delta table"
   ]
  },
  {
   "cell_type": "code",
   "execution_count": 0,
   "metadata": {
    "application/vnd.databricks.v1+cell": {
     "cellMetadata": {
      "byteLimit": 2048000,
      "rowLimit": 10000
     },
     "inputWidgets": {},
     "nuid": "aff7e2d4-ab19-4f96-8642-915e84795a15",
     "showTitle": false,
     "tableResultSettingsMap": {},
     "title": ""
    }
   },
   "outputs": [],
   "source": [
    "spark.sql(\"USE globalretail_silver\")\n",
    "spark.sql(\"\"\"\n",
    "    CREATE TABLE IF NOT EXISTS silver_products(\n",
    "      product_id STRING,\n",
    "      name STRING,\n",
    "      category STRING,\n",
    "      brand STRING,\n",
    "      price DOUBLE,\n",
    "      stock_quantity INT,\n",
    "      rating DOUBLE,\n",
    "      is_active BOOLEAN,\n",
    "      price_grocery STRING,\n",
    "      stock_status STRING,     \n",
    "      last_updated TIMESTAMP\n",
    "    )\n",
    "USING DELTA\n",
    "\"\"\")"
   ]
  },
  {
   "cell_type": "code",
   "execution_count": 0,
   "metadata": {
    "application/vnd.databricks.v1+cell": {
     "cellMetadata": {
      "byteLimit": 2048000,
      "rowLimit": 10000
     },
     "inputWidgets": {},
     "nuid": "af85a492-05c7-4134-871c-cc28350299d0",
     "showTitle": false,
     "tableResultSettingsMap": {},
     "title": ""
    }
   },
   "outputs": [],
   "source": [
    "# Get the most recent last_updated timestamp from the silver_products table\n",
    "last_processed_df = spark.sql(\"SELECT MAX(last_updated) AS last_processed FROM silver_products\")\n",
    "last_processed_timestamp = last_processed_df.collect()[0]['last_processed']\n",
    "\n",
    "# If no records exist, set a default old timestamp\n",
    "if last_processed_timestamp is None:\n",
    "  last_processed_timestamp = \"1900-01-01T00:00:00.000+0000\""
   ]
  },
  {
   "cell_type": "code",
   "execution_count": 0,
   "metadata": {
    "application/vnd.databricks.v1+cell": {
     "cellMetadata": {
      "byteLimit": 2048000,
      "rowLimit": 10000
     },
     "inputWidgets": {},
     "nuid": "bcc09138-040c-4169-9c69-6596d9f3616c",
     "showTitle": false,
     "tableResultSettingsMap": {},
     "title": ""
    }
   },
   "outputs": [],
   "source": [
    "# Create a temporary view of incremental data\n",
    "spark.sql(f\"\"\"\n",
    "    CREATE OR REPLACE TEMPORARY VIEW bronze_incremental_products AS\n",
    "    SELECT * \n",
    "    FROM globalretail_bronze.bronze_products p\n",
    "    WHERE p.ingestion_timestamp >= '{last_processed_timestamp}'\n",
    "\"\"\")"
   ]
  },
  {
   "cell_type": "markdown",
   "metadata": {
    "application/vnd.databricks.v1+cell": {
     "cellMetadata": {},
     "inputWidgets": {},
     "nuid": "18b0f9a9-efa1-4a1f-b0a6-29424cd88eb5",
     "showTitle": false,
     "tableResultSettingsMap": {},
     "title": ""
    }
   },
   "source": [
    "- **Data Transformation:**\n",
    "  - Normalize price (set negative prices to 0)\n",
    "  - Normalize stock quantity (set negative stock values to 0)\n",
    "  - Clamp rating values between 0 and 5\n",
    "  - Categorize price (Premium, Standard, Budget)\n",
    "  - Determine stock status (Out of Stock, Low Stock, Moderate Stock, Sufficient Stock)"
   ]
  },
  {
   "cell_type": "code",
   "execution_count": 0,
   "metadata": {
    "application/vnd.databricks.v1+cell": {
     "cellMetadata": {
      "byteLimit": 2048000,
      "rowLimit": 10000
     },
     "inputWidgets": {},
     "nuid": "0426fe41-f923-40ee-8d0d-76fd2bccdb2f",
     "showTitle": false,
     "tableResultSettingsMap": {},
     "title": ""
    }
   },
   "outputs": [],
   "source": [
    "# Transform data\n",
    "spark.sql(\"\"\"\n",
    "    CREATE OR REPLACE TEMPORARY VIEW silver_incremental_products AS\n",
    "    SELECT\n",
    "      product_id,\n",
    "      name,\n",
    "      category,\n",
    "      brand,\n",
    "      CASE \n",
    "        WHEN price < 0 THEN 0\n",
    "        ELSE price \n",
    "      END AS price,\n",
    "      CASE \n",
    "        WHEN stock_quantity < 0 THEN 0\n",
    "        ELSE stock_quantity \n",
    "      END AS stock_quantity,\n",
    "      CASE \n",
    "        WHEN rating < 0 THEN 0\n",
    "        ELSE rating \n",
    "      END AS rating,\n",
    "      is_active,\n",
    "      CASE \n",
    "        WHEN price > 1000 THEN 'Premium'\n",
    "        WHEN price > 100 THEN 'Standard'\n",
    "        ELSE 'Budget'\n",
    "      END AS price_grocery,\n",
    "      CASE \n",
    "        WHEN stock_quantity = 0 THEN 'Out of Stock'\n",
    "        WHEN stock_quantity < 10 THEN 'Low Stock'\n",
    "        WHEN stock_quantity < 50 THEN 'Moderate Stock'\n",
    "        ELSE 'Sufficient Stock'\n",
    "      END AS stock_status,\n",
    "      current_timestamp() AS last_updated\n",
    "    FROM bronze_incremental_products\n",
    "    WHERE name IS NOT NULL AND category IS NOT NULL\n",
    "\"\"\")"
   ]
  },
  {
   "cell_type": "code",
   "execution_count": 0,
   "metadata": {
    "application/vnd.databricks.v1+cell": {
     "cellMetadata": {
      "byteLimit": 2048000,
      "rowLimit": 10000
     },
     "inputWidgets": {},
     "nuid": "d0ca9674-7f02-4c5a-96dd-d36fc77f48ea",
     "showTitle": false,
     "tableResultSettingsMap": {},
     "title": ""
    }
   },
   "outputs": [],
   "source": [
    "spark.sql(\"\"\"\n",
    "    MERGE INTO silver_products t\n",
    "    USING silver_incremental_products s\n",
    "    ON t.product_id = s.product_id\n",
    "    WHEN MATCHED THEN\n",
    "      UPDATE SET *\n",
    "    WHEN NOT MATCHED THEN\n",
    "      INSERT *\n",
    "\"\"\")"
   ]
  },
  {
   "cell_type": "code",
   "execution_count": 0,
   "metadata": {
    "application/vnd.databricks.v1+cell": {
     "cellMetadata": {
      "byteLimit": 2048000,
      "implicitDf": true,
      "rowLimit": 10000
     },
     "inputWidgets": {},
     "nuid": "fc4316d1-7acd-484c-949b-5bfd548b2921",
     "showTitle": false,
     "tableResultSettingsMap": {},
     "title": ""
    }
   },
   "outputs": [],
   "source": [
    "%sql\n",
    "select * from globalretail_silver.silver_products"
   ]
  },
  {
   "cell_type": "code",
   "execution_count": 0,
   "metadata": {
    "application/vnd.databricks.v1+cell": {
     "cellMetadata": {},
     "inputWidgets": {},
     "nuid": "4667aacb-3ce2-4286-b987-a70f6e9cf04e",
     "showTitle": false,
     "tableResultSettingsMap": {},
     "title": ""
    }
   },
   "outputs": [],
   "source": []
  }
 ],
 "metadata": {
  "application/vnd.databricks.v1+notebook": {
   "computePreferences": null,
   "dashboards": [],
   "environmentMetadata": {
    "base_environment": "",
    "environment_version": "3"
   },
   "inputWidgetPreferences": null,
   "language": "python",
   "notebookMetadata": {
    "mostRecentlyExecutedCommandWithImplicitDF": {
     "commandId": 4896924839854685,
     "dataframes": [
      "_sqldf"
     ]
    },
    "pythonIndentUnit": 4
   },
   "notebookName": "Silver_Product_load",
   "widgets": {}
  },
  "language_info": {
   "name": "python"
  }
 },
 "nbformat": 4,
 "nbformat_minor": 0
}
