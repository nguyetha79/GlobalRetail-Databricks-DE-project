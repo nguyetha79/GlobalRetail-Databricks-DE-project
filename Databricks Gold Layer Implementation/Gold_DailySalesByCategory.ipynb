{
 "cells": [
  {
   "cell_type": "code",
   "execution_count": 0,
   "metadata": {
    "application/vnd.databricks.v1+cell": {
     "cellMetadata": {
      "byteLimit": 2048000,
      "rowLimit": 10000
     },
     "inputWidgets": {},
     "nuid": "e57f2bc3-c6dc-48dd-bcd6-5b563f1d3c84",
     "showTitle": false,
     "tableResultSettingsMap": {},
     "title": ""
    }
   },
   "outputs": [],
   "source": [
    "spark.sql(\"USE globalretail_gold\")\n",
    "spark.sql(\"\"\"\n",
    "    CREATE OR REPLACE TABLE gold_category_sales AS\n",
    "    SELECT \n",
    "        p.category AS product_category,\n",
    "        SUM(o.total_amount) AS category_total_sales\n",
    "    FROM \n",
    "        globalretail_silver.silver_orders o\n",
    "    JOIN \n",
    "        globalretail_silver.silver_products p\n",
    "    ON \n",
    "        o.product_id = p.product_id\n",
    "    GROUP BY \n",
    "        p.category\n",
    "          \n",
    "\"\"\")"
   ]
  },
  {
   "cell_type": "code",
   "execution_count": 0,
   "metadata": {
    "application/vnd.databricks.v1+cell": {
     "cellMetadata": {
      "byteLimit": 2048000,
      "implicitDf": true,
      "rowLimit": 10000
     },
     "inputWidgets": {},
     "nuid": "16498cfd-992d-49ca-b9a2-c7794d5953f0",
     "showTitle": false,
     "tableResultSettingsMap": {},
     "title": ""
    }
   },
   "outputs": [],
   "source": [
    "%sql\n",
    "select * from globalretail_gold.gold_category_sales"
   ]
  },
  {
   "cell_type": "code",
   "execution_count": 0,
   "metadata": {
    "application/vnd.databricks.v1+cell": {
     "cellMetadata": {},
     "inputWidgets": {},
     "nuid": "1f9bdb66-75c9-4fc1-aef4-071f7ef66a36",
     "showTitle": false,
     "tableResultSettingsMap": {},
     "title": ""
    }
   },
   "outputs": [],
   "source": []
  }
 ],
 "metadata": {
  "application/vnd.databricks.v1+notebook": {
   "computePreferences": null,
   "dashboards": [],
   "environmentMetadata": {
    "base_environment": "",
    "environment_version": "3"
   },
   "inputWidgetPreferences": null,
   "language": "python",
   "notebookMetadata": {
    "mostRecentlyExecutedCommandWithImplicitDF": {
     "commandId": 4896924839854710,
     "dataframes": [
      "_sqldf"
     ]
    },
    "pythonIndentUnit": 4
   },
   "notebookName": "Gold_DailySalesByCategory",
   "widgets": {}
  },
  "language_info": {
   "name": "python"
  }
 },
 "nbformat": 4,
 "nbformat_minor": 0
}
